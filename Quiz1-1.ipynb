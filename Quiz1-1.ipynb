{
 "cells": [
  {
   "cell_type": "code",
   "execution_count": 46,
   "metadata": {
    "collapsed": false
   },
   "outputs": [],
   "source": [
    "class Vector(object):\n",
    "    def __init__(self, coordinates):\n",
    "        try:\n",
    "            if not coordinates:\n",
    "                raise ValueError\n",
    "            self.coordinates = tuple(coordinates)\n",
    "            self.dimension = len(coordinates)\n",
    "\n",
    "        except ValueError:\n",
    "            raise ValueError('The coordinates must be nonempty')\n",
    "\n",
    "        except TypeError:\n",
    "            raise TypeError('The coordinates must be an iterable')\n",
    "\n",
    "\n",
    "    def __str__(self):\n",
    "        return 'Vector: {}'.format(self.coordinates)\n",
    "\n",
    "\n",
    "    def __eq__(self, v):\n",
    "        return self.coordinates == v.coordinates\n",
    "\n",
    "    def plus(self, v):\n",
    "        try:\n",
    "            if self.dimension != v.dimension:\n",
    "                raise ValueError\n",
    "            return Vector([x + y for x,y in zip(self.coordinates, v.coordinates)])\n",
    "\n",
    "        except ValueError:\n",
    "            raise ValueError('The vector dimensions must be the same: dimension: '+ str(self.dimension)+\" given vector dimension: \"+str(v.dimension))\n",
    "\n",
    "    def minus(self, v):\n",
    "        try:\n",
    "            if self.dimension != v.dimension:\n",
    "                raise ValueError\n",
    "            return Vector([x - y for x,y in zip(self.coordinates, v.coordinates)])\n",
    "\n",
    "        except ValueError:\n",
    "            raise ValueError('The vector dimensions must be the same: dimension: '+ str(self.dimension)+\" given vector dimension: \"+str(v.dimension))\n",
    "\n",
    "    def scale(self, scalar):\n",
    "        return Vector([scalar*x for x in self.coordinates])\n"
   ]
  },
  {
   "cell_type": "code",
   "execution_count": 43,
   "metadata": {
    "collapsed": false
   },
   "outputs": [
    {
     "name": "stdout",
     "output_type": "stream",
     "text": [
      "Vector: (7.089, -7.229999999999999)\n"
     ]
    }
   ],
   "source": [
    "# q1\n",
    "v1 = Vector([8.218, -9.341])\n",
    "v2 = Vector([-1.129, 2.111])\n",
    "\n",
    "print (v1.plus(v2))\n"
   ]
  },
  {
   "cell_type": "code",
   "execution_count": 44,
   "metadata": {
    "collapsed": false
   },
   "outputs": [
    {
     "name": "stdout",
     "output_type": "stream",
     "text": [
      "Vector: (15.342, 7.337)\n"
     ]
    }
   ],
   "source": [
    "# q2\n",
    "v1 = Vector([7.119, 8.215])\n",
    "v2 = Vector([-8.223, 0.878])\n",
    "\n",
    "print (v1.minus(v2))"
   ]
  },
  {
   "cell_type": "code",
   "execution_count": 47,
   "metadata": {
    "collapsed": false
   },
   "outputs": [
    {
     "name": "stdout",
     "output_type": "stream",
     "text": [
      "Vector: (12.38211, -7.49892, -2.35638)\n"
     ]
    }
   ],
   "source": [
    "# q3\n",
    "v = Vector([1.671, -1.012, -0.318]) \n",
    "\n",
    "print (v.scale(7.41))"
   ]
  },
  {
   "cell_type": "code",
   "execution_count": null,
   "metadata": {
    "collapsed": true
   },
   "outputs": [],
   "source": []
  },
  {
   "cell_type": "code",
   "execution_count": null,
   "metadata": {
    "collapsed": true
   },
   "outputs": [],
   "source": []
  },
  {
   "cell_type": "code",
   "execution_count": null,
   "metadata": {
    "collapsed": true
   },
   "outputs": [],
   "source": []
  },
  {
   "cell_type": "code",
   "execution_count": null,
   "metadata": {
    "collapsed": true
   },
   "outputs": [],
   "source": []
  },
  {
   "cell_type": "code",
   "execution_count": null,
   "metadata": {
    "collapsed": true
   },
   "outputs": [],
   "source": []
  },
  {
   "cell_type": "code",
   "execution_count": null,
   "metadata": {
    "collapsed": true
   },
   "outputs": [],
   "source": []
  },
  {
   "cell_type": "code",
   "execution_count": null,
   "metadata": {
    "collapsed": true
   },
   "outputs": [],
   "source": []
  },
  {
   "cell_type": "code",
   "execution_count": null,
   "metadata": {
    "collapsed": true
   },
   "outputs": [],
   "source": []
  },
  {
   "cell_type": "code",
   "execution_count": null,
   "metadata": {
    "collapsed": true
   },
   "outputs": [],
   "source": []
  },
  {
   "cell_type": "code",
   "execution_count": null,
   "metadata": {
    "collapsed": true
   },
   "outputs": [],
   "source": []
  },
  {
   "cell_type": "code",
   "execution_count": 7,
   "metadata": {
    "collapsed": false
   },
   "outputs": [
    {
     "name": "stderr",
     "output_type": "stream",
     "text": [
      "UsageError: %%writefile is a cell magic, but the cell body is empty.\n"
     ]
    }
   ],
   "source": []
  },
  {
   "cell_type": "code",
   "execution_count": null,
   "metadata": {
    "collapsed": true
   },
   "outputs": [],
   "source": []
  },
  {
   "cell_type": "code",
   "execution_count": null,
   "metadata": {
    "collapsed": true
   },
   "outputs": [],
   "source": []
  },
  {
   "cell_type": "code",
   "execution_count": null,
   "metadata": {
    "collapsed": true
   },
   "outputs": [],
   "source": []
  },
  {
   "cell_type": "code",
   "execution_count": null,
   "metadata": {
    "collapsed": true
   },
   "outputs": [],
   "source": []
  },
  {
   "cell_type": "code",
   "execution_count": 2,
   "metadata": {
    "collapsed": false
   },
   "outputs": [
    {
     "data": {
      "text/plain": [
       "'\\nAnswer for quiz https://classroom.udacity.com/courses/ud953/lessons/4374471116/concepts/45834932580923#\\n'"
      ]
     },
     "execution_count": 2,
     "metadata": {},
     "output_type": "execute_result"
    }
   ],
   "source": [
    "\"\"\"\n",
    "Answer for quiz https://classroom.udacity.com/courses/ud953/lessons/4374471116/concepts/45834932580923#\n",
    "\"\"\""
   ]
  },
  {
   "cell_type": "code",
   "execution_count": null,
   "metadata": {
    "collapsed": true
   },
   "outputs": [],
   "source": []
  }
 ],
 "metadata": {
  "anaconda-cloud": {},
  "kernelspec": {
   "display_name": "Python [conda root]",
   "language": "python",
   "name": "conda-root-py"
  },
  "language_info": {
   "codemirror_mode": {
    "name": "ipython",
    "version": 3
   },
   "file_extension": ".py",
   "mimetype": "text/x-python",
   "name": "python",
   "nbconvert_exporter": "python",
   "pygments_lexer": "ipython3",
   "version": "3.5.2"
  }
 },
 "nbformat": 4,
 "nbformat_minor": 1
}
